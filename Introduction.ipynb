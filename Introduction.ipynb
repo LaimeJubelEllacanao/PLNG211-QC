{
  "nbformat": 4,
  "nbformat_minor": 0,
  "metadata": {
    "colab": {
      "provenance": [],
      "authorship_tag": "ABX9TyN/OkcYSaFm7QAh8UVc318X",
      "include_colab_link": true
    },
    "kernelspec": {
      "name": "python3",
      "display_name": "Python 3"
    },
    "language_info": {
      "name": "python"
    }
  },
  "cells": [
    {
      "cell_type": "markdown",
      "metadata": {
        "id": "view-in-github",
        "colab_type": "text"
      },
      "source": [
        "<a href=\"https://colab.research.google.com/github/LaimeJubelEllacanao/PLNG211-QC/blob/main/Introduction.ipynb\" target=\"_parent\"><img src=\"https://colab.research.google.com/assets/colab-badge.svg\" alt=\"Open In Colab\"/></a>"
      ]
    },
    {
      "cell_type": "markdown",
      "source": [
        "#Python"
      ],
      "metadata": {
        "id": "L7O8lb_qqThI"
      }
    },
    {
      "cell_type": "code",
      "source": [
        "#This is an example of Python Indentation\n",
        "\n",
        "if 5>2:\n",
        "  print(\"5 is greater than 2\")"
      ],
      "metadata": {
        "colab": {
          "base_uri": "https://localhost:8080/"
        },
        "id": "nTyD7BuTqUtY",
        "outputId": "342156f4-40a2-456b-db4a-0018cd52cd6c"
      },
      "execution_count": 1,
      "outputs": [
        {
          "output_type": "stream",
          "name": "stdout",
          "text": [
            "5 is greater than 2\n"
          ]
        }
      ]
    },
    {
      "cell_type": "markdown",
      "source": [
        "Variable"
      ],
      "metadata": {
        "id": "9eLUXlArsxX2"
      }
    },
    {
      "cell_type": "code",
      "source": [
        "x = 1\n",
        "a,b = 0, -1\n",
        "c = \"Hello World\"\n",
        "c = \"Goodbye World\"\n",
        "print(a)\n",
        "print(c)\n"
      ],
      "metadata": {
        "colab": {
          "base_uri": "https://localhost:8080/"
        },
        "id": "8c1pDsNMs0a7",
        "outputId": "7f3a01ce-f712-40e8-fe33-45e4bd418fa7"
      },
      "execution_count": 12,
      "outputs": [
        {
          "output_type": "stream",
          "name": "stdout",
          "text": [
            "0\n",
            "Goodbye World\n"
          ]
        }
      ]
    },
    {
      "cell_type": "markdown",
      "source": [
        "Casting"
      ],
      "metadata": {
        "id": "qAxiLXAOuvha"
      }
    },
    {
      "cell_type": "code",
      "source": [
        "d = int(4)\n",
        "print(d)\n",
        "e = float(2.5)\n",
        "print(e)"
      ],
      "metadata": {
        "colab": {
          "base_uri": "https://localhost:8080/"
        },
        "id": "NejAfuyuuwy4",
        "outputId": "e3685e1b-4fa4-43dd-e106-47835da9c3ca"
      },
      "execution_count": 9,
      "outputs": [
        {
          "output_type": "stream",
          "name": "stdout",
          "text": [
            "4\n",
            "2.5\n"
          ]
        }
      ]
    },
    {
      "cell_type": "markdown",
      "source": [
        "Type () function"
      ],
      "metadata": {
        "id": "gAEJBQsxvqHF"
      }
    },
    {
      "cell_type": "code",
      "source": [
        "print(type(d))\n",
        "print(type(e))"
      ],
      "metadata": {
        "colab": {
          "base_uri": "https://localhost:8080/"
        },
        "id": "F-dqqrRZvsl2",
        "outputId": "9cdf8b46-51b4-44f1-9c1b-2d6a37939382"
      },
      "execution_count": 11,
      "outputs": [
        {
          "output_type": "stream",
          "name": "stdout",
          "text": [
            "<class 'int'>\n",
            "<class 'float'>\n"
          ]
        }
      ]
    },
    {
      "cell_type": "markdown",
      "source": [
        "Single Quote or Double"
      ],
      "metadata": {
        "id": "7Pr3NS-8wnfN"
      }
    },
    {
      "cell_type": "code",
      "source": [
        "f, g = \"Ben\", '10'\n",
        "print(f,g) \n",
        "print(g)"
      ],
      "metadata": {
        "colab": {
          "base_uri": "https://localhost:8080/"
        },
        "id": "0WC7ygiBwr2H",
        "outputId": "12214490-f0ea-4e02-9532-f37bfd10df7e"
      },
      "execution_count": 20,
      "outputs": [
        {
          "output_type": "stream",
          "name": "stdout",
          "text": [
            "Ben 10\n",
            "10\n"
          ]
        }
      ]
    },
    {
      "cell_type": "markdown",
      "source": [
        "Multiple Variables"
      ],
      "metadata": {
        "id": "hQm4pL_Gx11-"
      }
    },
    {
      "cell_type": "code",
      "source": [
        "x, y ,z = 1, 2, 3\n",
        "print(x)\n",
        "print(y)\n",
        "print(z)\n"
      ],
      "metadata": {
        "colab": {
          "base_uri": "https://localhost:8080/"
        },
        "id": "6o8qor7Hx7eC",
        "outputId": "e3ef5110-f7c9-4286-f4a1-35b2b523eda0"
      },
      "execution_count": 22,
      "outputs": [
        {
          "output_type": "stream",
          "name": "stdout",
          "text": [
            "1\n",
            "2\n",
            "3\n"
          ]
        }
      ]
    },
    {
      "cell_type": "markdown",
      "source": [
        "Single VAlue Multiple Variables"
      ],
      "metadata": {
        "id": "HhGnTPGrxQyD"
      }
    },
    {
      "cell_type": "code",
      "source": [
        "x = y = z = 75\n",
        "print(x)\n",
        "print(y)\n",
        "print(z)\n"
      ],
      "metadata": {
        "colab": {
          "base_uri": "https://localhost:8080/"
        },
        "id": "5Zc1iV-xxW7Y",
        "outputId": "c76bc40f-1cc2-42b0-c220-79e3414e55c9"
      },
      "execution_count": 21,
      "outputs": [
        {
          "output_type": "stream",
          "name": "stdout",
          "text": [
            "75\n",
            "75\n",
            "75\n"
          ]
        }
      ]
    },
    {
      "cell_type": "markdown",
      "source": [
        "Output Variables"
      ],
      "metadata": {
        "id": "4WjIpbFYyWg4"
      }
    },
    {
      "cell_type": "code",
      "source": [
        "q = \"Merry\"\n",
        "w = \"Christmas\"\n",
        "print(\"Merry\" + w)\n",
        "print(q + \" \" + w)\n",
        "print(\"Merry\", w)\n",
        "print(q, w)"
      ],
      "metadata": {
        "colab": {
          "base_uri": "https://localhost:8080/"
        },
        "id": "a3egQ0I9yZEL",
        "outputId": "5084be69-15cf-4efa-a375-bb3bed48394a"
      },
      "execution_count": 30,
      "outputs": [
        {
          "output_type": "stream",
          "name": "stdout",
          "text": [
            "MerryChristmas\n",
            "Merry Christmas\n",
            "Merry Christmas\n",
            "Merry Christmas\n"
          ]
        }
      ]
    },
    {
      "cell_type": "markdown",
      "source": [
        "Arithmetic Operations"
      ],
      "metadata": {
        "id": "tUvuzIHdztkx"
      }
    },
    {
      "cell_type": "code",
      "source": [
        "r = 5\n",
        "t = 2\n",
        "sum = r + t\n",
        "floorDiv = 5//2\n",
        "Mod = 5%2\n",
        "print(sum)\n",
        "print(r)\n",
        "print(\"5//2 =\", floorDiv)\n",
        "print(Mod)"
      ],
      "metadata": {
        "colab": {
          "base_uri": "https://localhost:8080/"
        },
        "id": "NM-S6wR7zv9T",
        "outputId": "9d8b31bb-9178-4812-e6b9-a25f87bdc680"
      },
      "execution_count": 43,
      "outputs": [
        {
          "output_type": "stream",
          "name": "stdout",
          "text": [
            "7\n",
            "5\n",
            "2\n",
            "1\n"
          ]
        }
      ]
    },
    {
      "cell_type": "markdown",
      "source": [
        "Assignment Operator"
      ],
      "metadata": {
        "id": "69nftJFt2e6Q"
      }
    },
    {
      "cell_type": "code",
      "source": [
        "h = 1\n",
        "h+=1\n",
        "print(h)"
      ],
      "metadata": {
        "colab": {
          "base_uri": "https://localhost:8080/"
        },
        "id": "DGhzK2TZ2hYm",
        "outputId": "4f28242e-afc3-464c-d022-29938f976420"
      },
      "execution_count": 53,
      "outputs": [
        {
          "output_type": "stream",
          "name": "stdout",
          "text": [
            "2\n"
          ]
        }
      ]
    },
    {
      "cell_type": "markdown",
      "source": [
        "Logical Operator"
      ],
      "metadata": {
        "id": "TXcV4hwK3eTb"
      }
    },
    {
      "cell_type": "code",
      "source": [
        "v = 1\n",
        "l = 4\n",
        "\n",
        "v<l and l==l"
      ],
      "metadata": {
        "colab": {
          "base_uri": "https://localhost:8080/"
        },
        "id": "mB9NcDEZ3f2B",
        "outputId": "50ed4d5e-ff41-4bb0-972f-ecc5319329cf"
      },
      "execution_count": 57,
      "outputs": [
        {
          "output_type": "execute_result",
          "data": {
            "text/plain": [
              "True"
            ]
          },
          "metadata": {},
          "execution_count": 57
        }
      ]
    }
  ]
}