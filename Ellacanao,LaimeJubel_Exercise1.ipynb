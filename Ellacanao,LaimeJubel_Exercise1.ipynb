{
  "nbformat": 4,
  "nbformat_minor": 0,
  "metadata": {
    "colab": {
      "provenance": [],
      "collapsed_sections": [],
      "authorship_tag": "ABX9TyNFu4e5+hAlSlrUxXPg9oUF",
      "include_colab_link": true
    },
    "kernelspec": {
      "name": "python3",
      "display_name": "Python 3"
    },
    "language_info": {
      "name": "python"
    }
  },
  "cells": [
    {
      "cell_type": "markdown",
      "metadata": {
        "id": "view-in-github",
        "colab_type": "text"
      },
      "source": [
        "<a href=\"https://colab.research.google.com/github/LaimeJubelEllacanao/PLNG211-QC/blob/main/Ellacanao%2CLaimeJubel_Exercise1.ipynb\" target=\"_parent\"><img src=\"https://colab.research.google.com/assets/colab-badge.svg\" alt=\"Open In Colab\"/></a>"
      ]
    },
    {
      "cell_type": "code",
      "execution_count": null,
      "metadata": {
        "colab": {
          "base_uri": "https://localhost:8080/"
        },
        "id": "97tbfuJz_tHU",
        "outputId": "db27dbb3-ffab-4b58-bda7-056bb010a77e"
      },
      "outputs": [
        {
          "output_type": "stream",
          "name": "stdout",
          "text": [
            "The sum of even numbers is:  186\n"
          ]
        }
      ],
      "source": [
        "n = [26, 49, 98, 87, 62, 75]\n",
        "\n",
        "result = 0\n",
        "\n",
        "for i in n:\n",
        "    if(i%2 == 0):\n",
        "        result += i\n",
        "\n",
        "print(\"The sum of even numbers is: \", result)\n"
      ]
    },
    {
      "cell_type": "markdown",
      "source": [],
      "metadata": {
        "id": "cYWZ2o_DEtmg"
      }
    }
  ]
}