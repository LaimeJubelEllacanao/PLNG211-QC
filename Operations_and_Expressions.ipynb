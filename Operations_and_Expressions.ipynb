{
  "nbformat": 4,
  "nbformat_minor": 0,
  "metadata": {
    "colab": {
      "provenance": [],
      "authorship_tag": "ABX9TyPeIk09RsXMUAFE1v3RN1HA",
      "include_colab_link": true
    },
    "kernelspec": {
      "name": "python3",
      "display_name": "Python 3"
    },
    "language_info": {
      "name": "python"
    }
  },
  "cells": [
    {
      "cell_type": "markdown",
      "metadata": {
        "id": "view-in-github",
        "colab_type": "text"
      },
      "source": [
        "<a href=\"https://colab.research.google.com/github/LaimeJubelEllacanao/PLNG211-QC/blob/main/Operations_and_Expressions.ipynb\" target=\"_parent\"><img src=\"https://colab.research.google.com/assets/colab-badge.svg\" alt=\"Open In Colab\"/></a>"
      ]
    },
    {
      "cell_type": "markdown",
      "source": [
        "Boolean Operatos"
      ],
      "metadata": {
        "id": "wkdbwzH9kEeH"
      }
    },
    {
      "cell_type": "code",
      "source": [
        "a=5\n",
        "b=4\n",
        "print(10>9)\n",
        "print(4>5)\n",
        "print(5==4)\n",
        "print(a!=b)"
      ],
      "metadata": {
        "colab": {
          "base_uri": "https://localhost:8080/"
        },
        "id": "HUo6mPMJkGdI",
        "outputId": "d4adf76b-f3f7-4ac5-9454-bd7ab1cd67a1"
      },
      "execution_count": null,
      "outputs": [
        {
          "output_type": "stream",
          "name": "stdout",
          "text": [
            "True\n",
            "False\n",
            "False\n",
            "True\n"
          ]
        }
      ]
    },
    {
      "cell_type": "markdown",
      "source": [
        "Bool() Function"
      ],
      "metadata": {
        "id": "ndlYy7eRklga"
      }
    },
    {
      "cell_type": "code",
      "source": [
        "print(bool(15))\n",
        "print(bool(\"Champ\"))\n",
        "\n",
        "print(bool(0))\n",
        "print(bool(None))\n",
        "print(bool(False))"
      ],
      "metadata": {
        "colab": {
          "base_uri": "https://localhost:8080/"
        },
        "id": "eIRBSEGDkoon",
        "outputId": "bd66ab5b-4c09-4086-ccc9-352eb25d0a2d"
      },
      "execution_count": null,
      "outputs": [
        {
          "output_type": "stream",
          "name": "stdout",
          "text": [
            "True\n",
            "True\n",
            "False\n",
            "False\n",
            "False\n"
          ]
        }
      ]
    },
    {
      "cell_type": "markdown",
      "source": [
        "Function that returns a Boolean"
      ],
      "metadata": {
        "id": "fzHFZDjdlRnw"
      }
    },
    {
      "cell_type": "code",
      "source": [
        "def my_function():\n",
        "  return True\n",
        "\n",
        "print(my_function())\n",
        "if(my_function()):\n",
        "  print(\"Yes!\")\n",
        "else:\n",
        "  print(\"No!\")\n",
        "\n",
        "def false():\n",
        "  return False\n",
        "\n",
        "print(false())\n",
        "\n"
      ],
      "metadata": {
        "colab": {
          "base_uri": "https://localhost:8080/"
        },
        "id": "fKiF1WqelVXw",
        "outputId": "544842d2-c696-4e03-fb53-a81e34dace51"
      },
      "execution_count": null,
      "outputs": [
        {
          "output_type": "stream",
          "name": "stdout",
          "text": [
            "True\n",
            "Yes!\n",
            "False\n"
          ]
        }
      ]
    },
    {
      "cell_type": "markdown",
      "source": [
        "Application 1"
      ],
      "metadata": {
        "id": "IjdIRxybmvla"
      }
    },
    {
      "cell_type": "code",
      "source": [
        "a = 6\n",
        "b = 7\n",
        "\n",
        "print(a==b)\n",
        "print(a!=a)"
      ],
      "metadata": {
        "colab": {
          "base_uri": "https://localhost:8080/"
        },
        "id": "N7EI3LXCmxGs",
        "outputId": "19395840-5a7a-44b9-83e3-a71ea68a89ae"
      },
      "execution_count": null,
      "outputs": [
        {
          "output_type": "stream",
          "name": "stdout",
          "text": [
            "False\n",
            "False\n"
          ]
        }
      ]
    },
    {
      "cell_type": "markdown",
      "source": [
        "Python Operators"
      ],
      "metadata": {
        "id": "CJoumpEmo_Fy"
      }
    },
    {
      "cell_type": "code",
      "source": [
        "print(10 + 5)\n",
        "print(10 - 5)\n",
        "print(10 * 5)\n",
        "print(10 / 3)\n",
        "print(10 % 4)\n",
        "print(10 // 3)#Whole Number in quotient\n",
        "print(10**2)#Power\n",
        "15//4"
      ],
      "metadata": {
        "colab": {
          "base_uri": "https://localhost:8080/"
        },
        "id": "y1wuD3japA4O",
        "outputId": "03ed3b0e-88f3-4d38-9426-fd431da6b8ae"
      },
      "execution_count": 24,
      "outputs": [
        {
          "output_type": "stream",
          "name": "stdout",
          "text": [
            "15\n",
            "5\n",
            "50\n",
            "3.3333333333333335\n",
            "2\n",
            "3\n",
            "100\n"
          ]
        },
        {
          "output_type": "execute_result",
          "data": {
            "text/plain": [
              "3"
            ]
          },
          "metadata": {},
          "execution_count": 24
        }
      ]
    },
    {
      "cell_type": "markdown",
      "source": [
        "Bitwise Operators"
      ],
      "metadata": {
        "id": "lD5OtzuoqOED"
      }
    },
    {
      "cell_type": "code",
      "source": [
        "#number of digits must be equal / required\n",
        "\n",
        "#c = 0011 1100 #16 in decimal\n",
        "#d = 0000 1101 #13 in decimal\n",
        "c = 60\n",
        "d = 13\n",
        "\n",
        "c & d #Answer is still in decimal but computed through binary\n",
        "c ^ d"
      ],
      "metadata": {
        "colab": {
          "base_uri": "https://localhost:8080/"
        },
        "id": "qhTB1drDqQBr",
        "outputId": "34505302-0a41-49ef-b844-2f0726069fc3"
      },
      "execution_count": 28,
      "outputs": [
        {
          "output_type": "execute_result",
          "data": {
            "text/plain": [
              "49"
            ]
          },
          "metadata": {},
          "execution_count": 28
        }
      ]
    },
    {
      "cell_type": "markdown",
      "source": [
        "Assignment Operators"
      ],
      "metadata": {
        "id": "vo7F8A59s8L7"
      }
    },
    {
      "cell_type": "code",
      "source": [
        "x=2\n",
        "x+=3\n",
        "print(\"x+=3 =\", x)"
      ],
      "metadata": {
        "colab": {
          "base_uri": "https://localhost:8080/"
        },
        "id": "mXBGUyPws-A_",
        "outputId": "9f1ad028-6836-49a8-fa71-fe9971e8f12d"
      },
      "execution_count": 36,
      "outputs": [
        {
          "output_type": "stream",
          "name": "stdout",
          "text": [
            "x+=3 = 5\n"
          ]
        }
      ]
    },
    {
      "cell_type": "markdown",
      "source": [
        "Logical Operator"
      ],
      "metadata": {
        "id": "za6BAjNEumZj"
      }
    },
    {
      "cell_type": "code",
      "source": [
        "print((7==3) and (4>2)) #Need both 2 true expressions to be true(output)\n",
        "print((7>3) and (4>2))\n",
        "\n",
        "k = (7==3) and (4>2)\n",
        "p = (7>3) and (4>2)\n",
        "print(k)\n",
        "print(p)\n",
        "\n",
        "print((2>3)) or (4>3) #Atleast 1 true output is true"
      ],
      "metadata": {
        "colab": {
          "base_uri": "https://localhost:8080/"
        },
        "id": "Zke9NNzPuou7",
        "outputId": "f71fd033-2326-4aa4-c70d-b2c359ec25da"
      },
      "execution_count": 43,
      "outputs": [
        {
          "output_type": "stream",
          "name": "stdout",
          "text": [
            "False\n",
            "True\n",
            "False\n",
            "True\n",
            "False\n"
          ]
        },
        {
          "output_type": "execute_result",
          "data": {
            "text/plain": [
              "True"
            ]
          },
          "metadata": {},
          "execution_count": 43
        }
      ]
    },
    {
      "cell_type": "markdown",
      "source": [
        "Identity Operators"
      ],
      "metadata": {
        "id": "sY2-eUUavxL8"
      }
    },
    {
      "cell_type": "code",
      "source": [
        "print(4 is 3)\n",
        "print(7 is not 7)"
      ],
      "metadata": {
        "colab": {
          "base_uri": "https://localhost:8080/"
        },
        "id": "jcQ6z51Hvz2y",
        "outputId": "df9c742e-81ba-4b7e-fc66-76b3d9724623"
      },
      "execution_count": 45,
      "outputs": [
        {
          "output_type": "stream",
          "name": "stdout",
          "text": [
            "False\n",
            "False\n"
          ]
        }
      ]
    },
    {
      "cell_type": "markdown",
      "source": [
        "Conditional Statements"
      ],
      "metadata": {
        "id": "X3nWr-BAv9hp"
      }
    },
    {
      "cell_type": "code",
      "source": [
        "#Python has no do while loop and switch cases"
      ],
      "metadata": {
        "id": "j66WkTdzwGwl"
      },
      "execution_count": null,
      "outputs": []
    }
  ]
}