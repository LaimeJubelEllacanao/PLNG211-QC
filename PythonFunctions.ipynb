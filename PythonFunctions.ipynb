{
  "nbformat": 4,
  "nbformat_minor": 0,
  "metadata": {
    "colab": {
      "provenance": [],
      "authorship_tag": "ABX9TyMcemwL0zJzJ7Z+LhH3b6Z3",
      "include_colab_link": true
    },
    "kernelspec": {
      "name": "python3",
      "display_name": "Python 3"
    },
    "language_info": {
      "name": "python"
    }
  },
  "cells": [
    {
      "cell_type": "markdown",
      "metadata": {
        "id": "view-in-github",
        "colab_type": "text"
      },
      "source": [
        "<a href=\"https://colab.research.google.com/github/LaimeJubelEllacanao/PLNG211-QC/blob/main/PythonFunctions.ipynb\" target=\"_parent\"><img src=\"https://colab.research.google.com/assets/colab-badge.svg\" alt=\"Open In Colab\"/></a>"
      ]
    },
    {
      "cell_type": "code",
      "execution_count": 7,
      "metadata": {
        "colab": {
          "base_uri": "https://localhost:8080/"
        },
        "id": "xA6TCizOVV_e",
        "outputId": "48e858e1-b6d1-481f-d366-5bf0db802a38"
      },
      "outputs": [
        {
          "output_type": "stream",
          "name": "stdout",
          "text": [
            "30\n",
            "Celsius -1.11\n",
            "Kelvin 272.04\n"
          ]
        }
      ],
      "source": [
        "#User-defined Functions\n",
        "def convert_to_celcius(fahrenheit):\n",
        "  return (fahrenheit-32)*5/9\n",
        "\n",
        "def convert_to_kelvin(fahrenheit):\n",
        "  return ((fahrenheit-32)*5/9)+ 273.15\n",
        "fahrenheit= int(input())\n",
        "\n",
        "print(\"Celsius\",round(convert_to_celcius(fahrenheit),2))\n",
        "print(\"Kelvin\",round(convert_to_kelvin(fahrenheit),2))"
      ]
    },
    {
      "cell_type": "code",
      "source": [
        "def Name():\n",
        "  pass\n",
        "  #no output"
      ],
      "metadata": {
        "id": "bQ003ig8VdZO"
      },
      "execution_count": 6,
      "outputs": []
    },
    {
      "cell_type": "code",
      "source": [
        "def my_function(fname):\n",
        "  return(fname+\"Sayo\")\n",
        "\n",
        "print(my_function(\"Mam\"))\n",
        "print(my_function(\"Maria\"))\n",
        "print(my_function(\"Rizette\"))"
      ],
      "metadata": {
        "colab": {
          "base_uri": "https://localhost:8080/"
        },
        "id": "ks3Tk-eMVhXh",
        "outputId": "532dc411-d3ec-4c8c-c17f-8f0a4594d255"
      },
      "execution_count": 5,
      "outputs": [
        {
          "output_type": "stream",
          "name": "stdout",
          "text": [
            "MamSayo\n",
            "MariaSayo\n",
            "RizetteSayo\n"
          ]
        }
      ]
    },
    {
      "cell_type": "code",
      "source": [
        "#Returns a value\n",
        "def myFunction(x):\n",
        "  return(5+x)\n",
        "\n",
        "print(myFunction(4))\n",
        "print(myFunction(5))\n",
        "print(myFunction(6))"
      ],
      "metadata": {
        "colab": {
          "base_uri": "https://localhost:8080/"
        },
        "id": "2_qmfOzJVj3X",
        "outputId": "712cc6fb-f57b-4608-a396-059ff7e7e2e9"
      },
      "execution_count": 4,
      "outputs": [
        {
          "output_type": "stream",
          "name": "stdout",
          "text": [
            "9\n",
            "10\n",
            "11\n"
          ]
        }
      ]
    },
    {
      "cell_type": "code",
      "source": [
        "#Exercise 1\n",
        "print(min(2,3,4))\n",
        "print(max(2,-3,4,7,-5))\n",
        "print(max(2,-3,min(4,7),-5))"
      ],
      "metadata": {
        "colab": {
          "base_uri": "https://localhost:8080/"
        },
        "id": "0KW1jTsZVshd",
        "outputId": "15a735a8-9a85-44a1-dcf4-6d4648328855"
      },
      "execution_count": 3,
      "outputs": [
        {
          "output_type": "stream",
          "name": "stdout",
          "text": [
            "2\n",
            "7\n",
            "4\n"
          ]
        }
      ]
    },
    {
      "cell_type": "code",
      "source": [
        "#Exercise 2\n",
        "import math\n",
        "\n",
        "def sum(firstInp,secondInp,thirdInp):\n",
        "  return firstInp + secondInp + thirdInp\n",
        "def ave(firstInp,secondInp,thirdInp):\n",
        "  return (firstInp + secondInp + thirdInp)/3\n",
        "def squares(firstInp,secondInp,thirdInp):\n",
        "  return math.pow(firstInp,2) + math.pow(secondInp,2) + math.pow(thirdInp,2)\n",
        "\n",
        "firstInp= int(input())\n",
        "secondInp= int(input())\n",
        "thirdInp= int(input())\n",
        "\n",
        "print(\"Sum =\",sum(firstInp,secondInp,thirdInp))\n",
        "print(\"Average =\",ave(firstInp,secondInp,thirdInp))\n",
        "print(\"Sum of Squares =\",squares(firstInp,secondInp,thirdInp))"
      ],
      "metadata": {
        "colab": {
          "base_uri": "https://localhost:8080/"
        },
        "id": "uTPx8IMkVwt6",
        "outputId": "8179d3ad-bff2-450c-a453-ae8334a8137f"
      },
      "execution_count": 2,
      "outputs": [
        {
          "output_type": "stream",
          "name": "stdout",
          "text": [
            "2\n",
            "2\n",
            "2\n",
            "Sum = 6\n",
            "Average = 2.0\n",
            "Sum of Squares = 12.0\n"
          ]
        }
      ]
    }
  ]
}