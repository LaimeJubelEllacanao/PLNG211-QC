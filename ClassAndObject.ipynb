{
  "nbformat": 4,
  "nbformat_minor": 0,
  "metadata": {
    "colab": {
      "provenance": [],
      "authorship_tag": "ABX9TyNI/tZy7QTUaLJz5Au4CWF/",
      "include_colab_link": true
    },
    "kernelspec": {
      "name": "python3",
      "display_name": "Python 3"
    },
    "language_info": {
      "name": "python"
    }
  },
  "cells": [
    {
      "cell_type": "markdown",
      "metadata": {
        "id": "view-in-github",
        "colab_type": "text"
      },
      "source": [
        "<a href=\"https://colab.research.google.com/github/LaimeJubelEllacanao/PLNG211-QC/blob/main/ClassAndObject.ipynb\" target=\"_parent\"><img src=\"https://colab.research.google.com/assets/colab-badge.svg\" alt=\"Open In Colab\"/></a>"
      ]
    },
    {
      "cell_type": "code",
      "execution_count": 1,
      "metadata": {
        "colab": {
          "base_uri": "https://localhost:8080/"
        },
        "id": "u-e37LOE1ual",
        "outputId": "b4fd11f4-2c64-41d0-b803-cbe042b8bd0c"
      },
      "outputs": [
        {
          "output_type": "stream",
          "name": "stdout",
          "text": [
            "The name of the person is: Ana\n",
            "The age of the person is: 36\n"
          ]
        }
      ],
      "source": [
        "class Person:\n",
        "  def __init__(self,name,age):\n",
        "    self.name = name                #attributes\n",
        "    self.age = age\n",
        "\n",
        "  def Name(self,name):\n",
        "    print(\"The person is\"+self.name)\n",
        "\n",
        "person1 = Person(\"Ana\",36)         #instantiation/add a value to an attribute\n",
        "print(\"The name of the person is:\",person1.name)\n",
        "print(\"The age of the person is:\",person1.age)"
      ]
    },
    {
      "cell_type": "code",
      "source": [
        "class Person:\n",
        "  def __init__(self,name,age):\n",
        "    self.name = name                #attributes\n",
        "    self.age = age\n",
        "class Student(Person):\n",
        "  pass\n",
        "\n",
        "class Teacher(Person):\n",
        "  pass\n",
        "\n",
        "  person1 = Person(\"Ana\",36)         #instantiation/add a value to an attribute\n",
        "  print(\"The name of the person is:\",person1.name)\n",
        "  print(\"The age of the person is:\",person1.age)\n",
        "\n",
        "  person2 = Student(\"Lino\",32)      #inheritance\n",
        "  print(\"The name of the student is:\",person2.name)\n",
        "  print(\"The age of the student is:\",person2.age)\n",
        "\n",
        "  person3 = Teacher(\"Maria\",39)\n",
        "  print(\"The name of the teacher is:\",person3.name)\n",
        "  print(\"The age of the teacher is:\",person3.age)"
      ],
      "metadata": {
        "colab": {
          "base_uri": "https://localhost:8080/"
        },
        "id": "h6K9uPBt2HkV",
        "outputId": "b83e2030-d205-474a-b1a4-d66ef15cd139"
      },
      "execution_count": 3,
      "outputs": [
        {
          "output_type": "stream",
          "name": "stdout",
          "text": [
            "The name of the person is: Ana\n",
            "The age of the person is: 36\n",
            "The name of the student is: Lino\n",
            "The age of the student is: 32\n",
            "The name of the teacher is: Maria\n",
            "The age of the teacher is: 39\n"
          ]
        }
      ]
    },
    {
      "cell_type": "code",
      "source": [
        "#Application 1. Write a Rectangle class in Python language with length and width as attributes\n",
        "#Create a Perimeter () and Area () as methods to compute for the perimeter and area of a rectangle\n",
        "\n",
        "print(\"Enter the length: \")\n",
        "length = int(input())\n",
        "print(\"Enter the width: \")\n",
        "width = int (input())\n",
        "\n",
        "class Rectangle:\n",
        "  def __init__(self,length,width):\n",
        "    self.length = length               \n",
        "    self.width = width\n",
        "\n",
        "  def Area(self):\n",
        "      return self.length*self.width\n",
        "\n",
        "  def Perimeter(self):\n",
        "      return 2*(self.length+self.width)\n",
        "  \n",
        "answer = Rectangle(length,width)\n",
        "print(\"The area of the reactangle is: \", answer.Area())\n",
        "print(\"The perimeter of the reactangle is: \", answer.Perimeter())"
      ],
      "metadata": {
        "colab": {
          "base_uri": "https://localhost:8080/"
        },
        "id": "fkMRoBOs2gq4",
        "outputId": "bd30df18-93b3-4a89-9599-6ea19a368e8d"
      },
      "execution_count": 20,
      "outputs": [
        {
          "output_type": "stream",
          "name": "stdout",
          "text": [
            "Enter the length: \n",
            "5\n",
            "Enter the width: \n",
            "10\n",
            "The area of the reactangle is:  50\n",
            "The perimeter of the reactangle is:  30\n"
          ]
        }
      ]
    }
  ]
}