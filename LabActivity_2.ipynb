{
  "nbformat": 4,
  "nbformat_minor": 0,
  "metadata": {
    "colab": {
      "provenance": [],
      "authorship_tag": "ABX9TyP6E/wWvjbjKfUAxvVGiwU7",
      "include_colab_link": true
    },
    "kernelspec": {
      "name": "python3",
      "display_name": "Python 3"
    },
    "language_info": {
      "name": "python"
    }
  },
  "cells": [
    {
      "cell_type": "markdown",
      "metadata": {
        "id": "view-in-github",
        "colab_type": "text"
      },
      "source": [
        "<a href=\"https://colab.research.google.com/github/LaimeJubelEllacanao/PLNG211-QC/blob/main/LabActivity_2.ipynb\" target=\"_parent\"><img src=\"https://colab.research.google.com/assets/colab-badge.svg\" alt=\"Open In Colab\"/></a>"
      ]
    },
    {
      "cell_type": "code",
      "execution_count": 19,
      "metadata": {
        "id": "SYU85nODWngC",
        "colab": {
          "base_uri": "https://localhost:8080/"
        },
        "outputId": "35a25cf4-1116-402d-9ca3-528ea834c9d3"
      },
      "outputs": [
        {
          "output_type": "stream",
          "name": "stdout",
          "text": [
            "Laime Jubel G. Ellacanao\n",
            "10002007\n",
            "19\n",
            "OLFU-QC\n",
            "BSCS\n"
          ]
        }
      ],
      "source": [
        "class Student:\n",
        "  def __init__(self,name,studentNo,age,school,course):\n",
        "    self.name = name\n",
        "    self.studentNo = studentNo\n",
        "    self.age = age\n",
        "    self.school = school\n",
        "    self.course = course\n",
        "\n",
        "  def Info(self):\n",
        "   return self.name\n",
        "   return self.studentNo\n",
        "   return self.age\n",
        "   return self.school \n",
        "   return self.course\n",
        "\n",
        "Myself = Student(\"Laime Jubel G. Ellacanao\", 10002007, 19, \"OLFU-QC\", \"BSCS\")\n",
        "\n",
        "print(Myself.name)\n",
        "print(Myself.studentNo)\n",
        "print(Myself.age)\n",
        "print(Myself.school)\n",
        "print(Myself.course)"
      ]
    }
  ]
}